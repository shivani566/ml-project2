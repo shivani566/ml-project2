{
 "cells": [
  {
   "cell_type": "code",
   "execution_count": 8,
   "metadata": {},
   "outputs": [
    {
     "name": "stdout",
     "output_type": "stream",
     "text": [
      "Index(['id', 'name', 'artist', 'mood', 'danceability', 'energy', 'key',\n",
      "       'loudness', 'mode', 'speechiness', 'acousticness', 'instrumentalness',\n",
      "       'liveness', 'valence', 'tempo', 'type', 'id.1', 'uri', 'track_href',\n",
      "       'analysis_url', 'duration_ms', 'time_signature'],\n",
      "      dtype='object')\n",
      "Song: Mood (feat. iann dior) | Artist: 24kGoldn | Mood: romantic\n",
      "Song: Mood - Remix | Artist: 24kGoldn | Mood: romantic\n",
      "Song: Mood (Remix) feat. Justin Bieber, J Balvin & iann dior | Artist: 24kGoldn | Mood: romantic\n",
      "Song: Mood (feat. iann dior) - Live | Artist: 24kGoldn | Mood: romantic\n",
      "Song: Mood | Artist: Mani Longia | Mood: romantic\n",
      "Song: Mood | Artist: D Naveen | Mood: romantic\n",
      "Song: Hood Mood | Artist: The Landers | Mood: romantic\n",
      "Song: Mood Swings | Artist: Tegi Pannu | Mood: romantic\n",
      "Song: Footage | Artist: SARRB | Mood: romantic\n",
      "Song: Mood | Artist: Diljit Dosanjh | Mood: romantic\n"
     ]
    }
   ],
   "source": [
    "import pandas as pd\n",
    "# Load the expanded dataset\n",
    "df = pd.read_csv('songs_with_audio_features.csv')\n",
    "\n",
    "# Check for missing values and handle them (e.g., drop rows with missing values)\n",
    "df = df.dropna()\n",
    "\n",
    "print(df.columns)\n",
    "\n",
    "from sklearn.preprocessing import LabelEncoder\n",
    "\n",
    "# Encode the 'mood' column (converting text labels to numerical labels)\n",
    "le = LabelEncoder()\n",
    "df['mood_encoded'] = le.fit_transform(df['mood'])\n",
    "\n",
    "# Check the updated DataFrame\n",
    "#print(df.head())\n",
    "\n",
    "from sklearn.metrics.pairwise import cosine_similarity\n",
    "\n",
    "# Calculate the similarity matrix based on audio features\n",
    "similarity_matrix = cosine_similarity(df[audio_features])\n",
    "\n",
    "# Now, you can recommend songs by finding the most similar songs to a given track\n",
    "# For example, if you want to recommend songs similar to the first song in the dataset:\n",
    "track_idx = 0  # Index of the song you want to recommend similar songs to\n",
    "similar_tracks = similarity_matrix[track_idx]\n",
    "\n",
    "# Get the indices of the most similar tracks\n",
    "similar_tracks_idx = similar_tracks.argsort()[-10:][::-1]  # Top 10 most similar tracks\n",
    "\n",
    "# Display the names of the similar tracks\n",
    "for idx in similar_tracks_idx:\n",
    "    print(f\"Song: {df.iloc[idx]['name']} | Artist: {df.iloc[idx]['artist']} | Mood: {df.iloc[idx]['mood']}\")\n",
    "\n"
   ]
  }
 ],
 "metadata": {
  "kernelspec": {
   "display_name": ".venv",
   "language": "python",
   "name": "python3"
  },
  "language_info": {
   "codemirror_mode": {
    "name": "ipython",
    "version": 3
   },
   "file_extension": ".py",
   "mimetype": "text/x-python",
   "name": "python",
   "nbconvert_exporter": "python",
   "pygments_lexer": "ipython3",
   "version": "3.12.2"
  }
 },
 "nbformat": 4,
 "nbformat_minor": 2
}

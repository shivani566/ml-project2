{
 "cells": [
  {
   "cell_type": "code",
   "execution_count": 5,
   "metadata": {},
   "outputs": [
    {
     "name": "stderr",
     "output_type": "stream",
     "text": [
      "HTTP Error for GET to https://api.spotify.com/v1/audio-features/?ids=4jPy3l0RUwlUI9T5XHBW2m with Params: {} returned 403 due to None\n",
      "HTTP Error for GET to https://api.spotify.com/v1/audio-features/?ids=6v8mSl4GZXok3Ebe9x4Jmr with Params: {} returned 403 due to None\n"
     ]
    },
    {
     "name": "stdout",
     "output_type": "stream",
     "text": [
      "Error fetching features for track ID 4jPy3l0RUwlUI9T5XHBW2m: http status: 403, code:-1 - https://api.spotify.com/v1/audio-features/?ids=4jPy3l0RUwlUI9T5XHBW2m:\n",
      " None, reason: None\n",
      "Error fetching features for track ID 6v8mSl4GZXok3Ebe9x4Jmr: http status: 403, code:-1 - https://api.spotify.com/v1/audio-features/?ids=6v8mSl4GZXok3Ebe9x4Jmr:\n",
      " None, reason: None\n"
     ]
    },
    {
     "name": "stderr",
     "output_type": "stream",
     "text": [
      "HTTP Error for GET to https://api.spotify.com/v1/audio-features/?ids=6FuGJB290AQMAHTfjOYVaK with Params: {} returned 403 due to None\n",
      "HTTP Error for GET to https://api.spotify.com/v1/audio-features/?ids=30m1Wyp7zzpOYsBqvM7gYM with Params: {} returned 403 due to None\n"
     ]
    },
    {
     "name": "stdout",
     "output_type": "stream",
     "text": [
      "Error fetching features for track ID 6FuGJB290AQMAHTfjOYVaK: http status: 403, code:-1 - https://api.spotify.com/v1/audio-features/?ids=6FuGJB290AQMAHTfjOYVaK:\n",
      " None, reason: None\n",
      "Error fetching features for track ID 30m1Wyp7zzpOYsBqvM7gYM: http status: 403, code:-1 - https://api.spotify.com/v1/audio-features/?ids=30m1Wyp7zzpOYsBqvM7gYM:\n",
      " None, reason: None\n"
     ]
    },
    {
     "name": "stderr",
     "output_type": "stream",
     "text": [
      "HTTP Error for GET to https://api.spotify.com/v1/audio-features/?ids=5rZlwNFl01HqLWBQGryKSm with Params: {} returned 403 due to None\n",
      "HTTP Error for GET to https://api.spotify.com/v1/audio-features/?ids=6fu2fjARHA8iXrLzMNXKfD with Params: {} returned 403 due to None\n"
     ]
    },
    {
     "name": "stdout",
     "output_type": "stream",
     "text": [
      "Error fetching features for track ID 5rZlwNFl01HqLWBQGryKSm: http status: 403, code:-1 - https://api.spotify.com/v1/audio-features/?ids=5rZlwNFl01HqLWBQGryKSm:\n",
      " None, reason: None\n",
      "Error fetching features for track ID 6fu2fjARHA8iXrLzMNXKfD: http status: 403, code:-1 - https://api.spotify.com/v1/audio-features/?ids=6fu2fjARHA8iXrLzMNXKfD:\n",
      " None, reason: None\n"
     ]
    },
    {
     "name": "stderr",
     "output_type": "stream",
     "text": [
      "HTTP Error for GET to https://api.spotify.com/v1/audio-features/?ids=1d1ICMe7RvIDwTlTDk3X6y with Params: {} returned 403 due to None\n",
      "HTTP Error for GET to https://api.spotify.com/v1/audio-features/?ids=4e0eMVsFHuNYWVb0MEYWKN with Params: {} returned 403 due to None\n"
     ]
    },
    {
     "name": "stdout",
     "output_type": "stream",
     "text": [
      "Error fetching features for track ID 1d1ICMe7RvIDwTlTDk3X6y: http status: 403, code:-1 - https://api.spotify.com/v1/audio-features/?ids=1d1ICMe7RvIDwTlTDk3X6y:\n",
      " None, reason: None\n",
      "Error fetching features for track ID 4e0eMVsFHuNYWVb0MEYWKN: http status: 403, code:-1 - https://api.spotify.com/v1/audio-features/?ids=4e0eMVsFHuNYWVb0MEYWKN:\n",
      " None, reason: None\n"
     ]
    },
    {
     "name": "stderr",
     "output_type": "stream",
     "text": [
      "HTTP Error for GET to https://api.spotify.com/v1/audio-features/?ids=1syS1hdteqS5dRZezxN1Yg with Params: {} returned 403 due to None\n",
      "HTTP Error for GET to https://api.spotify.com/v1/audio-features/?ids=2CQJcnC0XCRFcxKJNgLZmo with Params: {} returned 403 due to None\n"
     ]
    },
    {
     "name": "stdout",
     "output_type": "stream",
     "text": [
      "Error fetching features for track ID 1syS1hdteqS5dRZezxN1Yg: http status: 403, code:-1 - https://api.spotify.com/v1/audio-features/?ids=1syS1hdteqS5dRZezxN1Yg:\n",
      " None, reason: None\n",
      "Error fetching features for track ID 2CQJcnC0XCRFcxKJNgLZmo: http status: 403, code:-1 - https://api.spotify.com/v1/audio-features/?ids=2CQJcnC0XCRFcxKJNgLZmo:\n",
      " None, reason: None\n"
     ]
    },
    {
     "name": "stderr",
     "output_type": "stream",
     "text": [
      "HTTP Error for GET to https://api.spotify.com/v1/audio-features/?ids=1As11cGpiSKQQbNwy43Vtp with Params: {} returned 403 due to None\n",
      "HTTP Error for GET to https://api.spotify.com/v1/audio-features/?ids=2nm8SX64kEcDRVu8oj04sG with Params: {} returned 403 due to None\n"
     ]
    },
    {
     "name": "stdout",
     "output_type": "stream",
     "text": [
      "Error fetching features for track ID 1As11cGpiSKQQbNwy43Vtp: http status: 403, code:-1 - https://api.spotify.com/v1/audio-features/?ids=1As11cGpiSKQQbNwy43Vtp:\n",
      " None, reason: None\n",
      "Error fetching features for track ID 2nm8SX64kEcDRVu8oj04sG: http status: 403, code:-1 - https://api.spotify.com/v1/audio-features/?ids=2nm8SX64kEcDRVu8oj04sG:\n",
      " None, reason: None\n"
     ]
    },
    {
     "name": "stderr",
     "output_type": "stream",
     "text": [
      "HTTP Error for GET to https://api.spotify.com/v1/audio-features/?ids=3hgACTA1rtiZOjSCpPs9wN with Params: {} returned 403 due to None\n",
      "HTTP Error for GET to https://api.spotify.com/v1/audio-features/?ids=1UY0MQyaZJA2DIsCfdL8xN with Params: {} returned 403 due to None\n"
     ]
    },
    {
     "name": "stdout",
     "output_type": "stream",
     "text": [
      "Error fetching features for track ID 3hgACTA1rtiZOjSCpPs9wN: http status: 403, code:-1 - https://api.spotify.com/v1/audio-features/?ids=3hgACTA1rtiZOjSCpPs9wN:\n",
      " None, reason: None\n",
      "Error fetching features for track ID 1UY0MQyaZJA2DIsCfdL8xN: http status: 403, code:-1 - https://api.spotify.com/v1/audio-features/?ids=1UY0MQyaZJA2DIsCfdL8xN:\n",
      " None, reason: None\n"
     ]
    },
    {
     "name": "stderr",
     "output_type": "stream",
     "text": [
      "HTTP Error for GET to https://api.spotify.com/v1/audio-features/?ids=4rgXmH3XlmPZBqZodfLEHM with Params: {} returned 403 due to None\n",
      "HTTP Error for GET to https://api.spotify.com/v1/audio-features/?ids=2gwF8weF7bct9y2Zs4A4iO with Params: {} returned 403 due to None\n"
     ]
    },
    {
     "name": "stdout",
     "output_type": "stream",
     "text": [
      "Error fetching features for track ID 4rgXmH3XlmPZBqZodfLEHM: http status: 403, code:-1 - https://api.spotify.com/v1/audio-features/?ids=4rgXmH3XlmPZBqZodfLEHM:\n",
      " None, reason: None\n",
      "Error fetching features for track ID 2gwF8weF7bct9y2Zs4A4iO: http status: 403, code:-1 - https://api.spotify.com/v1/audio-features/?ids=2gwF8weF7bct9y2Zs4A4iO:\n",
      " None, reason: None\n"
     ]
    },
    {
     "name": "stderr",
     "output_type": "stream",
     "text": [
      "HTTP Error for GET to https://api.spotify.com/v1/audio-features/?ids=0olOcc4XT3iLyhlzqPUugX with Params: {} returned 403 due to None\n"
     ]
    },
    {
     "name": "stdout",
     "output_type": "stream",
     "text": [
      "Error fetching features for track ID 0olOcc4XT3iLyhlzqPUugX: http status: 403, code:-1 - https://api.spotify.com/v1/audio-features/?ids=0olOcc4XT3iLyhlzqPUugX:\n",
      " None, reason: None\n"
     ]
    },
    {
     "name": "stderr",
     "output_type": "stream",
     "text": [
      "HTTP Error for GET to https://api.spotify.com/v1/audio-features/?ids=6TH02wXPuqj9HFzVpPRz7K with Params: {} returned 403 due to None\n",
      "HTTP Error for GET to https://api.spotify.com/v1/audio-features/?ids=1FZfbt3X1fSdHyhscJ2jiz with Params: {} returned 403 due to None\n"
     ]
    },
    {
     "name": "stdout",
     "output_type": "stream",
     "text": [
      "Error fetching features for track ID 6TH02wXPuqj9HFzVpPRz7K: http status: 403, code:-1 - https://api.spotify.com/v1/audio-features/?ids=6TH02wXPuqj9HFzVpPRz7K:\n",
      " None, reason: None\n",
      "Error fetching features for track ID 1FZfbt3X1fSdHyhscJ2jiz: http status: 403, code:-1 - https://api.spotify.com/v1/audio-features/?ids=1FZfbt3X1fSdHyhscJ2jiz:\n",
      " None, reason: None\n"
     ]
    },
    {
     "name": "stderr",
     "output_type": "stream",
     "text": [
      "HTTP Error for GET to https://api.spotify.com/v1/audio-features/?ids=1O9QBS7rTnMnxaUZN9GMbE with Params: {} returned 403 due to None\n",
      "HTTP Error for GET to https://api.spotify.com/v1/audio-features/?ids=4PKGaJPuXfespUVeXLBaA5 with Params: {} returned 403 due to None\n"
     ]
    },
    {
     "name": "stdout",
     "output_type": "stream",
     "text": [
      "Error fetching features for track ID 1O9QBS7rTnMnxaUZN9GMbE: http status: 403, code:-1 - https://api.spotify.com/v1/audio-features/?ids=1O9QBS7rTnMnxaUZN9GMbE:\n",
      " None, reason: None\n",
      "Error fetching features for track ID 4PKGaJPuXfespUVeXLBaA5: http status: 403, code:-1 - https://api.spotify.com/v1/audio-features/?ids=4PKGaJPuXfespUVeXLBaA5:\n",
      " None, reason: None\n"
     ]
    },
    {
     "name": "stderr",
     "output_type": "stream",
     "text": [
      "HTTP Error for GET to https://api.spotify.com/v1/audio-features/?ids=5JtvedSVWW9McnoEAPJwQm with Params: {} returned 403 due to None\n",
      "HTTP Error for GET to https://api.spotify.com/v1/audio-features/?ids=6sOOMWU4Bu8wi0SeCpRD9A with Params: {} returned 403 due to None\n"
     ]
    },
    {
     "name": "stdout",
     "output_type": "stream",
     "text": [
      "Error fetching features for track ID 5JtvedSVWW9McnoEAPJwQm: http status: 403, code:-1 - https://api.spotify.com/v1/audio-features/?ids=5JtvedSVWW9McnoEAPJwQm:\n",
      " None, reason: None\n",
      "Error fetching features for track ID 6sOOMWU4Bu8wi0SeCpRD9A: http status: 403, code:-1 - https://api.spotify.com/v1/audio-features/?ids=6sOOMWU4Bu8wi0SeCpRD9A:\n",
      " None, reason: None\n"
     ]
    },
    {
     "name": "stderr",
     "output_type": "stream",
     "text": [
      "HTTP Error for GET to https://api.spotify.com/v1/audio-features/?ids=71pTPbzPNXMvUoLyQQYiaB with Params: {} returned 403 due to None\n",
      "HTTP Error for GET to https://api.spotify.com/v1/audio-features/?ids=7t89o04EbT4flij8QFYGuK with Params: {} returned 403 due to None\n"
     ]
    },
    {
     "name": "stdout",
     "output_type": "stream",
     "text": [
      "Error fetching features for track ID 71pTPbzPNXMvUoLyQQYiaB: http status: 403, code:-1 - https://api.spotify.com/v1/audio-features/?ids=71pTPbzPNXMvUoLyQQYiaB:\n",
      " None, reason: None\n",
      "Error fetching features for track ID 7t89o04EbT4flij8QFYGuK: http status: 403, code:-1 - https://api.spotify.com/v1/audio-features/?ids=7t89o04EbT4flij8QFYGuK:\n",
      " None, reason: None\n"
     ]
    },
    {
     "name": "stderr",
     "output_type": "stream",
     "text": [
      "HTTP Error for GET to https://api.spotify.com/v1/audio-features/?ids=4bT2kkyaCQPVhaw9o3c55T with Params: {} returned 403 due to None\n",
      "HTTP Error for GET to https://api.spotify.com/v1/audio-features/?ids=4qIcZYeN6JxZcnSfobSi0A with Params: {} returned 403 due to None\n"
     ]
    },
    {
     "name": "stdout",
     "output_type": "stream",
     "text": [
      "Error fetching features for track ID 4bT2kkyaCQPVhaw9o3c55T: http status: 403, code:-1 - https://api.spotify.com/v1/audio-features/?ids=4bT2kkyaCQPVhaw9o3c55T:\n",
      " None, reason: None\n",
      "Error fetching features for track ID 4qIcZYeN6JxZcnSfobSi0A: http status: 403, code:-1 - https://api.spotify.com/v1/audio-features/?ids=4qIcZYeN6JxZcnSfobSi0A:\n",
      " None, reason: None\n"
     ]
    },
    {
     "name": "stderr",
     "output_type": "stream",
     "text": [
      "HTTP Error for GET to https://api.spotify.com/v1/audio-features/?ids=5OG2IfDyEPXQ9AaetZYCR9 with Params: {} returned 403 due to None\n",
      "HTTP Error for GET to https://api.spotify.com/v1/audio-features/?ids=4XUbJkEkB3huqihSCq8Za8 with Params: {} returned 403 due to None\n"
     ]
    },
    {
     "name": "stdout",
     "output_type": "stream",
     "text": [
      "Error fetching features for track ID 5OG2IfDyEPXQ9AaetZYCR9: http status: 403, code:-1 - https://api.spotify.com/v1/audio-features/?ids=5OG2IfDyEPXQ9AaetZYCR9:\n",
      " None, reason: None\n",
      "Error fetching features for track ID 4XUbJkEkB3huqihSCq8Za8: http status: 403, code:-1 - https://api.spotify.com/v1/audio-features/?ids=4XUbJkEkB3huqihSCq8Za8:\n",
      " None, reason: None\n"
     ]
    },
    {
     "name": "stderr",
     "output_type": "stream",
     "text": [
      "HTTP Error for GET to https://api.spotify.com/v1/audio-features/?ids=5qJyxkcekkUAGbBieK6OE5 with Params: {} returned 403 due to None\n",
      "HTTP Error for GET to https://api.spotify.com/v1/audio-features/?ids=0EtJzwmu8Egn4XV6VahzkY with Params: {} returned 403 due to None\n"
     ]
    },
    {
     "name": "stdout",
     "output_type": "stream",
     "text": [
      "Error fetching features for track ID 5qJyxkcekkUAGbBieK6OE5: http status: 403, code:-1 - https://api.spotify.com/v1/audio-features/?ids=5qJyxkcekkUAGbBieK6OE5:\n",
      " None, reason: None\n",
      "Error fetching features for track ID 0EtJzwmu8Egn4XV6VahzkY: http status: 403, code:-1 - https://api.spotify.com/v1/audio-features/?ids=0EtJzwmu8Egn4XV6VahzkY:\n",
      " None, reason: None\n"
     ]
    },
    {
     "name": "stderr",
     "output_type": "stream",
     "text": [
      "HTTP Error for GET to https://api.spotify.com/v1/audio-features/?ids=3KkSs9PraljlrqfINVFkm0 with Params: {} returned 403 due to None\n",
      "HTTP Error for GET to https://api.spotify.com/v1/audio-features/?ids=0nEsLR5KTySCO9CfyC2yjg with Params: {} returned 403 due to None\n"
     ]
    },
    {
     "name": "stdout",
     "output_type": "stream",
     "text": [
      "Error fetching features for track ID 3KkSs9PraljlrqfINVFkm0: http status: 403, code:-1 - https://api.spotify.com/v1/audio-features/?ids=3KkSs9PraljlrqfINVFkm0:\n",
      " None, reason: None\n",
      "Error fetching features for track ID 0nEsLR5KTySCO9CfyC2yjg: http status: 403, code:-1 - https://api.spotify.com/v1/audio-features/?ids=0nEsLR5KTySCO9CfyC2yjg:\n",
      " None, reason: None\n"
     ]
    },
    {
     "name": "stderr",
     "output_type": "stream",
     "text": [
      "HTTP Error for GET to https://api.spotify.com/v1/audio-features/?ids=2v0H8Syth3TkzVwHoWuCul with Params: {} returned 403 due to None\n",
      "HTTP Error for GET to https://api.spotify.com/v1/audio-features/?ids=5VMhxHULk2LYc25dTqy4XA with Params: {} returned 403 due to None\n"
     ]
    },
    {
     "name": "stdout",
     "output_type": "stream",
     "text": [
      "Error fetching features for track ID 2v0H8Syth3TkzVwHoWuCul: http status: 403, code:-1 - https://api.spotify.com/v1/audio-features/?ids=2v0H8Syth3TkzVwHoWuCul:\n",
      " None, reason: None\n",
      "Error fetching features for track ID 5VMhxHULk2LYc25dTqy4XA: http status: 403, code:-1 - https://api.spotify.com/v1/audio-features/?ids=5VMhxHULk2LYc25dTqy4XA:\n",
      " None, reason: None\n"
     ]
    },
    {
     "name": "stderr",
     "output_type": "stream",
     "text": [
      "HTTP Error for GET to https://api.spotify.com/v1/audio-features/?ids=4k6yZRw7M04gZE2uW12Cw6 with Params: {} returned 403 due to None\n",
      "HTTP Error for GET to https://api.spotify.com/v1/audio-features/?ids=6lyliljaf7Ew7sp3uKkmmw with Params: {} returned 403 due to None\n"
     ]
    },
    {
     "name": "stdout",
     "output_type": "stream",
     "text": [
      "Error fetching features for track ID 4k6yZRw7M04gZE2uW12Cw6: http status: 403, code:-1 - https://api.spotify.com/v1/audio-features/?ids=4k6yZRw7M04gZE2uW12Cw6:\n",
      " None, reason: None\n",
      "Error fetching features for track ID 6lyliljaf7Ew7sp3uKkmmw: http status: 403, code:-1 - https://api.spotify.com/v1/audio-features/?ids=6lyliljaf7Ew7sp3uKkmmw:\n",
      " None, reason: None\n"
     ]
    },
    {
     "name": "stderr",
     "output_type": "stream",
     "text": [
      "HTTP Error for GET to https://api.spotify.com/v1/audio-features/?ids=2PeHKVIOZ4Tl97yZyHz1f9 with Params: {} returned 403 due to None\n",
      "HTTP Error for GET to https://api.spotify.com/v1/audio-features/?ids=713irs277zHVxA0qVUNKFS with Params: {} returned 403 due to None\n"
     ]
    },
    {
     "name": "stdout",
     "output_type": "stream",
     "text": [
      "Error fetching features for track ID 2PeHKVIOZ4Tl97yZyHz1f9: http status: 403, code:-1 - https://api.spotify.com/v1/audio-features/?ids=2PeHKVIOZ4Tl97yZyHz1f9:\n",
      " None, reason: None\n",
      "Error fetching features for track ID 713irs277zHVxA0qVUNKFS: http status: 403, code:-1 - https://api.spotify.com/v1/audio-features/?ids=713irs277zHVxA0qVUNKFS:\n",
      " None, reason: None\n"
     ]
    },
    {
     "name": "stderr",
     "output_type": "stream",
     "text": [
      "HTTP Error for GET to https://api.spotify.com/v1/audio-features/?ids=5fr3xdQBqrkeLAbMFoeG8v with Params: {} returned 403 due to None\n",
      "HTTP Error for GET to https://api.spotify.com/v1/audio-features/?ids=7tnuKypmHBWvPIwpGUD01B with Params: {} returned 403 due to None\n"
     ]
    },
    {
     "name": "stdout",
     "output_type": "stream",
     "text": [
      "Error fetching features for track ID 5fr3xdQBqrkeLAbMFoeG8v: http status: 403, code:-1 - https://api.spotify.com/v1/audio-features/?ids=5fr3xdQBqrkeLAbMFoeG8v:\n",
      " None, reason: None\n",
      "Error fetching features for track ID 7tnuKypmHBWvPIwpGUD01B: http status: 403, code:-1 - https://api.spotify.com/v1/audio-features/?ids=7tnuKypmHBWvPIwpGUD01B:\n",
      " None, reason: None\n"
     ]
    },
    {
     "name": "stderr",
     "output_type": "stream",
     "text": [
      "HTTP Error for GET to https://api.spotify.com/v1/audio-features/?ids=7dTIsyFZ6GFDRNxilprPXg with Params: {} returned 403 due to None\n"
     ]
    },
    {
     "name": "stdout",
     "output_type": "stream",
     "text": [
      "Error fetching features for track ID 7dTIsyFZ6GFDRNxilprPXg: http status: 403, code:-1 - https://api.spotify.com/v1/audio-features/?ids=7dTIsyFZ6GFDRNxilprPXg:\n",
      " None, reason: None\n"
     ]
    },
    {
     "name": "stderr",
     "output_type": "stream",
     "text": [
      "HTTP Error for GET to https://api.spotify.com/v1/audio-features/?ids=6BiuoKkXZ2mHW2xvJGSgta with Params: {} returned 403 due to None\n",
      "HTTP Error for GET to https://api.spotify.com/v1/audio-features/?ids=42EewndujVKqIMoxwuFVL8 with Params: {} returned 403 due to None\n"
     ]
    },
    {
     "name": "stdout",
     "output_type": "stream",
     "text": [
      "Error fetching features for track ID 6BiuoKkXZ2mHW2xvJGSgta: http status: 403, code:-1 - https://api.spotify.com/v1/audio-features/?ids=6BiuoKkXZ2mHW2xvJGSgta:\n",
      " None, reason: None\n",
      "Error fetching features for track ID 42EewndujVKqIMoxwuFVL8: http status: 403, code:-1 - https://api.spotify.com/v1/audio-features/?ids=42EewndujVKqIMoxwuFVL8:\n",
      " None, reason: None\n"
     ]
    },
    {
     "name": "stderr",
     "output_type": "stream",
     "text": [
      "HTTP Error for GET to https://api.spotify.com/v1/audio-features/?ids=5obTyAhp9xms15FjibgrBy with Params: {} returned 403 due to None\n",
      "HTTP Error for GET to https://api.spotify.com/v1/audio-features/?ids=25jVJTOQB2O2Z3OZnHpuDK with Params: {} returned 403 due to None\n"
     ]
    },
    {
     "name": "stdout",
     "output_type": "stream",
     "text": [
      "Error fetching features for track ID 5obTyAhp9xms15FjibgrBy: http status: 403, code:-1 - https://api.spotify.com/v1/audio-features/?ids=5obTyAhp9xms15FjibgrBy:\n",
      " None, reason: None\n",
      "Error fetching features for track ID 25jVJTOQB2O2Z3OZnHpuDK: http status: 403, code:-1 - https://api.spotify.com/v1/audio-features/?ids=25jVJTOQB2O2Z3OZnHpuDK:\n",
      " None, reason: None\n"
     ]
    },
    {
     "name": "stderr",
     "output_type": "stream",
     "text": [
      "HTTP Error for GET to https://api.spotify.com/v1/audio-features/?ids=2uWJcnBgQp5JQJXVXuz7Wt with Params: {} returned 403 due to None\n",
      "HTTP Error for GET to https://api.spotify.com/v1/audio-features/?ids=1DZLpZrsgPD8Zqjx9dPHmz with Params: {} returned 403 due to None\n"
     ]
    },
    {
     "name": "stdout",
     "output_type": "stream",
     "text": [
      "Error fetching features for track ID 2uWJcnBgQp5JQJXVXuz7Wt: http status: 403, code:-1 - https://api.spotify.com/v1/audio-features/?ids=2uWJcnBgQp5JQJXVXuz7Wt:\n",
      " None, reason: None\n",
      "Error fetching features for track ID 1DZLpZrsgPD8Zqjx9dPHmz: http status: 403, code:-1 - https://api.spotify.com/v1/audio-features/?ids=1DZLpZrsgPD8Zqjx9dPHmz:\n",
      " None, reason: None\n"
     ]
    },
    {
     "name": "stderr",
     "output_type": "stream",
     "text": [
      "HTTP Error for GET to https://api.spotify.com/v1/audio-features/?ids=4nJwvxJ7pVSWuLMSc2Mfky with Params: {} returned 403 due to None\n",
      "HTTP Error for GET to https://api.spotify.com/v1/audio-features/?ids=5QAj9kZouI8eSwqDqtywNr with Params: {} returned 403 due to None\n"
     ]
    },
    {
     "name": "stdout",
     "output_type": "stream",
     "text": [
      "Error fetching features for track ID 4nJwvxJ7pVSWuLMSc2Mfky: http status: 403, code:-1 - https://api.spotify.com/v1/audio-features/?ids=4nJwvxJ7pVSWuLMSc2Mfky:\n",
      " None, reason: None\n",
      "Error fetching features for track ID 5QAj9kZouI8eSwqDqtywNr: http status: 403, code:-1 - https://api.spotify.com/v1/audio-features/?ids=5QAj9kZouI8eSwqDqtywNr:\n",
      " None, reason: None\n"
     ]
    }
   ],
   "source": [
    "import spotipy\n",
    "from spotipy.oauth2 import SpotifyClientCredentials\n",
    "import pandas as pd\n",
    "\n",
    "# Authenticate\n",
    "client_credentials_manager = SpotifyClientCredentials(client_id='96bb859be46147e7a1ec44f1656d601e', client_secret='6c4e75fde66d44c7bf3dfd8dfed94120')\n",
    "sp = spotipy.Spotify(client_credentials_manager=client_credentials_manager)\n",
    "\n",
    "# Fetch song details\n",
    "results = sp.search(q='mood', type='track', limit=50)  # Replace 'mood' with specific genres/moods\n",
    "tracks = []\n",
    "\n",
    "for item in results['tracks']['items']:\n",
    "    track = {\n",
    "        'id': item['id'],\n",
    "        'name': item['name'],\n",
    "        'artist': item['artists'][0]['name'],\n",
    "        'mood': 'romantic',  # Add manual labeling or derived mood here\n",
    "    }\n",
    "    tracks.append(track)\n",
    "\n",
    "df = pd.DataFrame(tracks)\n",
    "df.to_csv('songs_dataset.csv', index=False)\n",
    "\n",
    "# Load the dataset\n",
    "df = pd.read_csv('songs_dataset.csv')\n",
    "\n",
    "# Fetch audio features for each track\n",
    "audio_features = []\n",
    "for track_id in df['id']:\n",
    "    try:\n",
    "        features = sp.audio_features(track_id)[0]  # Fetch features for each track\n",
    "        if features:\n",
    "            audio_features.append(features)\n",
    "        else:\n",
    "            print(f\"Features not found for track ID: {track_id}\")\n",
    "    except spotipy.SpotifyException as e:\n",
    "        print(f\"Error fetching features for track ID {track_id}: {e}\")\n",
    "\n",
    "# Convert to DataFrame and merge\n",
    "audio_features_df = pd.DataFrame(audio_features)\n",
    "df = pd.concat([df.reset_index(drop=True), audio_features_df.reset_index(drop=True)], axis=1)\n",
    "\n",
    "# Save the enriched dataset\n",
    "df.to_csv('songs_with_audio_features.csv', index=False)\n",
    "\n",
    "# Continue with your existing code...\n",
    "\n",
    "\n",
    "\n",
    "\n"
   ]
  }
 ],
 "metadata": {
  "kernelspec": {
   "display_name": ".venv",
   "language": "python",
   "name": "python3"
  },
  "language_info": {
   "codemirror_mode": {
    "name": "ipython",
    "version": 3
   },
   "file_extension": ".py",
   "mimetype": "text/x-python",
   "name": "python",
   "nbconvert_exporter": "python",
   "pygments_lexer": "ipython3",
   "version": "3.12.2"
  }
 },
 "nbformat": 4,
 "nbformat_minor": 2
}
